{
  "cells": [
    {
      "cell_type": "code",
      "execution_count": null,
      "id": "fbd9dd7a",
      "metadata": {
        "id": "fbd9dd7a"
      },
      "outputs": [],
      "source": [
        "!pip install mysql-connector-python\n",
        "import mysql.connector\n",
        "mydb = mysql.connector.connect(\n",
        "        host=\"localhost\",\n",
        "        user=\"root\",\n",
        "        password=\"Pikachu@255666\",\n",
        "        database=\"telecom_db\"\n",
        "        )"
      ]
    },
    {
      "cell_type": "code",
      "execution_count": null,
      "id": "9620b26f",
      "metadata": {
        "id": "9620b26f"
      },
      "outputs": [],
      "source": [
        "mydb"
      ]
    },
    {
      "cell_type": "code",
      "execution_count": null,
      "id": "b7e7c40b",
      "metadata": {
        "id": "b7e7c40b"
      },
      "outputs": [],
      "source": [
        "print(dir(mydb))"
      ]
    },
    {
      "cell_type": "code",
      "execution_count": null,
      "id": "315fa370",
      "metadata": {
        "id": "315fa370"
      },
      "outputs": [],
      "source": [
        "print(mydb)"
      ]
    },
    {
      "cell_type": "code",
      "execution_count": null,
      "id": "2c50970c",
      "metadata": {
        "id": "2c50970c"
      },
      "outputs": [],
      "source": [
        "mycursor = mydb.cursor()"
      ]
    },
    {
      "cell_type": "code",
      "execution_count": null,
      "id": "1561e0c3",
      "metadata": {
        "id": "1561e0c3"
      },
      "outputs": [],
      "source": [
        "mycursor = mydb.cursor()\n",
        "mycursor.execute(\"SHOW TABLES\")\n",
        "for x in mycursor:\n",
        "    print(x)"
      ]
    },
    {
      "cell_type": "code",
      "execution_count": null,
      "id": "19994137",
      "metadata": {
        "id": "19994137"
      },
      "outputs": [],
      "source": [
        "## Total Call Duration for Each Customer"
      ]
    },
    {
      "cell_type": "code",
      "execution_count": null,
      "id": "1f7a7db9",
      "metadata": {
        "id": "1f7a7db9"
      },
      "outputs": [],
      "source": [
        "query = \"\"\"\n",
        "SELECT CustomerID, SUM(Duration) AS TotalDuration FROM CallRecords GROUP BY CustomerID;\n",
        "\"\"\"\n",
        "df = pd.read_sql(query, con = mydb)"
      ]
    },
    {
      "cell_type": "code",
      "source": [
        "df.head()"
      ],
      "metadata": {
        "id": "G5nZ2Ewjk_7t"
      },
      "id": "G5nZ2Ewjk_7t",
      "execution_count": null,
      "outputs": []
    },
    {
      "cell_type": "code",
      "execution_count": null,
      "id": "306d3ce3",
      "metadata": {
        "id": "306d3ce3"
      },
      "outputs": [],
      "source": [
        "mycursor.execute(query)\n",
        "mycursor.fetchall()"
      ]
    },
    {
      "cell_type": "code",
      "execution_count": null,
      "id": "d2448aef",
      "metadata": {
        "id": "d2448aef"
      },
      "outputs": [],
      "source": [
        "## Average Call Duration by Call Type\n",
        "average_call_duration = \"SELECT CallDate, COUNT(*) AS TotalCalls, AVG(Duration) AS AvgDuration FROM CallRecords GROUP BY CallDate; \"\"\""
      ]
    },
    {
      "cell_type": "code",
      "execution_count": null,
      "id": "2bc44375",
      "metadata": {
        "id": "2bc44375"
      },
      "outputs": [],
      "source": [
        "mycursor.execute(average_call_duration)\n"
      ]
    },
    {
      "cell_type": "code",
      "execution_count": null,
      "id": "569de6b8",
      "metadata": {
        "id": "569de6b8"
      },
      "outputs": [],
      "source": [
        "mycursor.fetchall()"
      ]
    },
    {
      "cell_type": "code",
      "execution_count": null,
      "id": "6e33651d",
      "metadata": {
        "id": "6e33651d"
      },
      "outputs": [],
      "source": [
        "## Top 5 Customers by Total Call Duration\n",
        "query= \"SELECT CustomerID, SUM(Duration) AS TotalDuration FROM CallRecords GROUP BY CustomerID ORDER BY TotalDuration DESC LIMIT 5\""
      ]
    },
    {
      "cell_type": "code",
      "execution_count": null,
      "id": "65853c2a",
      "metadata": {
        "id": "65853c2a"
      },
      "outputs": [],
      "source": [
        "mycursor.execute(query)\n",
        "mycursor.fetchall()"
      ]
    },
    {
      "cell_type": "code",
      "execution_count": null,
      "id": "b5dca0d2",
      "metadata": {
        "id": "b5dca0d2"
      },
      "outputs": [],
      "source": [
        "## Number of Calls and Average Duration per Day\n",
        "query = \"SELECT CallDate, COUNT(*) AS TotalCalls, AVG(Duration) AS AvgDuration FROM CallRecords GROUP BY CallDate;\"\n",
        "mycursor.execute(query)\n"
      ]
    },
    {
      "cell_type": "code",
      "execution_count": null,
      "id": "08f79afb",
      "metadata": {
        "id": "08f79afb"
      },
      "outputs": [],
      "source": [
        "mycursor.fetchall()"
      ]
    },
    {
      "cell_type": "code",
      "execution_count": null,
      "id": "e93801f8",
      "metadata": {
        "id": "e93801f8"
      },
      "outputs": [],
      "source": [
        "## Monthly Call Volume Trends\n",
        "query = \"SELECT EXTRACT(YEAR_MONTH FROM CallDate) AS YearMonth, COUNT(*) AS TotalCalls FROM CallRecords GROUP BY YearMonth ORDER BY YearMonth;\""
      ]
    },
    {
      "cell_type": "code",
      "execution_count": null,
      "id": "41d4f245",
      "metadata": {
        "id": "41d4f245"
      },
      "outputs": [],
      "source": [
        "mycursor.execute(query)\n",
        "mycursor.fetchall()"
      ]
    },
    {
      "cell_type": "code",
      "execution_count": null,
      "id": "7a47c37a",
      "metadata": {
        "id": "7a47c37a"
      },
      "outputs": [],
      "source": [
        "## Customers Without Any Calls\n",
        "customers_without_calls = \"SELECT c.CustomerID, c.FirstName, c.LastName FROM Customers AS c LEFT JOIN CallRecords r ON c.CustomerID = r.CustomerID WHERE r.CustomerID IS NULL;\""
      ]
    },
    {
      "cell_type": "code",
      "execution_count": null,
      "id": "e00fe51e",
      "metadata": {
        "id": "e00fe51e"
      },
      "outputs": [],
      "source": [
        "mycursor.execute(customers_without_calls)\n",
        "mycursor.fetchall()"
      ]
    },
    {
      "cell_type": "code",
      "execution_count": null,
      "id": "802a2ed5",
      "metadata": {
        "id": "802a2ed5"
      },
      "outputs": [],
      "source": [
        "## Total Calls and Total Duration by Customer and Plan\n",
        "query = \" SELECT c.CustomerID, p.PlanName, COUNT(r.RecordID) AS TotalCalls, SUM(r.Duration) AS TotalDuration FROM Customers c JOIN CallRecords r ON c.CustomerID = r.CustomerID JOIN ServicePlans p ON c.PlanID = p.PlanID GROUP BY c.CustomerID, p.PlanName;\""
      ]
    },
    {
      "cell_type": "code",
      "execution_count": null,
      "id": "13d52b73",
      "metadata": {
        "id": "13d52b73"
      },
      "outputs": [],
      "source": [
        "mycursor.execute(query)"
      ]
    },
    {
      "cell_type": "code",
      "execution_count": null,
      "id": "c01be3c8",
      "metadata": {
        "id": "c01be3c8"
      },
      "outputs": [],
      "source": [
        "## Customers with Over 100 Minutes of Calls in a Single Day\n",
        "query=\"\"\"\n",
        "SELECT CustomerID, CallDate, SUM(Duration) AS TotalDuration\n",
        "FROM CallRecords\n",
        "GROUP BY CustomerID, CallDate\n",
        "HAVING TotalDuration > 100;\"\"\"\n"
      ]
    },
    {
      "cell_type": "code",
      "execution_count": null,
      "id": "383e4ca9",
      "metadata": {
        "id": "383e4ca9"
      },
      "outputs": [],
      "source": [
        "mycursor.execute(query)"
      ]
    },
    {
      "cell_type": "code",
      "execution_count": null,
      "id": "9d9aae82",
      "metadata": {
        "id": "9d9aae82"
      },
      "outputs": [],
      "source": [
        "mycursor.fetchall()"
      ]
    },
    {
      "cell_type": "code",
      "execution_count": null,
      "id": "d1b4d9f8",
      "metadata": {
        "id": "d1b4d9f8"
      },
      "outputs": [],
      "source": [
        "mydb.is_closed()"
      ]
    },
    {
      "cell_type": "code",
      "execution_count": null,
      "id": "2b877fff",
      "metadata": {
        "id": "2b877fff"
      },
      "outputs": [],
      "source": [
        "mydb.close()\n"
      ]
    },
    {
      "cell_type": "code",
      "execution_count": null,
      "id": "61968397",
      "metadata": {
        "id": "61968397"
      },
      "outputs": [],
      "source": [
        "mydb.is_closed()"
      ]
    },
    {
      "cell_type": "code",
      "execution_count": null,
      "id": "9002f21b",
      "metadata": {
        "id": "9002f21b"
      },
      "outputs": [],
      "source": [
        "mydb.connect()"
      ]
    },
    {
      "cell_type": "code",
      "execution_count": null,
      "id": "f44ccb3f",
      "metadata": {
        "id": "f44ccb3f"
      },
      "outputs": [],
      "source": [
        "mydb.is_closed()"
      ]
    },
    {
      "cell_type": "code",
      "execution_count": null,
      "id": "018faaaf",
      "metadata": {
        "id": "018faaaf"
      },
      "outputs": [],
      "source": []
    }
  ],
  "metadata": {
    "kernelspec": {
      "display_name": "Python 3 (ipykernel)",
      "language": "python",
      "name": "python3"
    },
    "language_info": {
      "codemirror_mode": {
        "name": "ipython",
        "version": 3
      },
      "file_extension": ".py",
      "mimetype": "text/x-python",
      "name": "python",
      "nbconvert_exporter": "python",
      "pygments_lexer": "ipython3",
      "version": "3.11.5"
    },
    "colab": {
      "provenance": []
    }
  },
  "nbformat": 4,
  "nbformat_minor": 5
}